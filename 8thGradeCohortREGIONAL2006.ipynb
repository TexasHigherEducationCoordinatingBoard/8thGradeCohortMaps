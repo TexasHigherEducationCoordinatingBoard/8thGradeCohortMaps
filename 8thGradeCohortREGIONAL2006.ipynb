{
 "cells": [
  {
   "cell_type": "code",
   "execution_count": null,
   "metadata": {},
   "outputs": [],
   "source": [
    "import pandas as pd\n",
    "import requests\n",
    "import zipfile\n",
    "import arcpy\n",
    "import sqlite3\n",
    "import io\n",
    "import os\n",
    "pd.options.display.max_rows = 20\n",
    "arcpy.env.overwriteOutput = True\n",
    "os.chdir('C:\\\\Users\\John\\Dropbox\\MapDev\\EighthGradeCohortRegional')\n",
    "os.getcwd()"
   ]
  },
  {
   "cell_type": "markdown",
   "metadata": {},
   "source": [
    "### Start by downloading the 2006 cohort workbook from the THECB website\n",
    "\n",
    "The cohort workbooks are available at: http://www.txhighereddata.org/index.cfm?objectId=F2CBE4A0-C90B-11E5-8D610050560100A9\n",
    "\n",
    "Save the workbook as 'CohortWorkbook2006.xlsx'"
   ]
  },
  {
   "cell_type": "code",
   "execution_count": null,
   "metadata": {
    "collapsed": true
   },
   "outputs": [],
   "source": [
    "xl = pd.read_excel('CohortWorkbook2006.xlsx', sheetname='Region Cty Eco', header=None, na_values='.', index_col=None, skiprows=5)\n",
    "\n",
    "#Keep the columns I need\n",
    "xl2=xl[[0,1,2,3,4,5,12,13, 14, 15, 16, 17, 18, 19, 22, 23]]\n",
    "\n",
    "CountyEco=xl2[:511] #Drop the rows I don't need\n",
    "CountyEco.columns=['TEAReg','RegName','CtyNum','CtyName','EcoStatus', 'CohoN', 'nHSGrad','pHSGrad','nEnr4yr','pEnr4yr',\n",
    "                'nEnr2yr','pEnr2yr','nEnr', 'pEnr', 'nCompTX', 'pCompTX']\n",
    "#print(CountyEcon)\n",
    "#CountyEco.to_csv('Data/CountyEcon.csv', index=False)"
   ]
  },
  {
   "cell_type": "code",
   "execution_count": null,
   "metadata": {
    "collapsed": true
   },
   "outputs": [],
   "source": [
    "xl = pd.read_excel('CohortWorkbook2006.xlsx', sheetname='Region Cty Ethnicity', header=None, na_values='.', index_col=None, skiprows=5)\n",
    "\n",
    "#Keep the columns I need\n",
    "xl2=xl[[0,1,2,3,4,5,12,13, 14, 15, 16, 17, 18, 19, 22, 23]]\n",
    "\n",
    "CountyEth=xl2[:672] #Drop the rows I don't need\n",
    "CountyEth.columns=['TEAReg','RegName','CtyNum','CtyName','Eth', 'CohoN', 'nHSGrad','pHSGrad','nEnr4yr','pEnr4yr',\n",
    "                'nEnr2yr','pEnr2yr','nEnr', 'pEnr', 'nCompTX', 'pCompTX']\n",
    "#print(CountyEth)\n",
    "#CountyEth.to_csv('Data/CountyEth.csv', index=False)\n",
    "#CountyEth.dtypes"
   ]
  },
  {
   "cell_type": "code",
   "execution_count": null,
   "metadata": {
    "collapsed": true
   },
   "outputs": [],
   "source": [
    "xl = pd.read_excel('CohortWorkbook2006.xlsx', sheetname='Region Cty Gender', na_values='.', header=None, index_col=None, converters={'TEAReg':str,'RegName':str,'CtyName':str,'Gender':str}, skiprows=5)\n",
    "\n",
    "#Keep the columns I need\n",
    "xl2=xl[[0,1,2,3,4,5,12,13, 14, 15, 16, 17, 18, 19, 22, 23]]\n",
    "\n",
    "CountyGen=xl2[:512] #Drop the rows I don't need\n",
    "CountyGen.columns=['TEAReg','RegName','CtyNum','CtyName','Gender', 'CohoN', 'nHSGrad','pHSGrad','nEnr4yr','pEnr4yr',\n",
    "                'nEnr2yr','pEnr2yr','nEnr', 'pEnr', 'nCompTX', 'pCompTX']\n",
    "#print(CountyGen)\n",
    "#CountyGen.to_csv('Data/CountyGen.csv', index=False)\n",
    "#CountyGen.dtypes"
   ]
  },
  {
   "cell_type": "code",
   "execution_count": null,
   "metadata": {
    "collapsed": true
   },
   "outputs": [],
   "source": [
    "GenCty= CountyGen.dropna()\n",
    "EthCty= CountyEth.dropna()\n",
    "EcoCty= CountyEco.dropna()\n",
    "#print(EcoCty)\n",
    "GenCty.to_csv('Data/TempGen.csv', index=False)\n",
    "EthCty.to_csv('Data/TempEth.csv', index=False)\n",
    "EcoCty.to_csv('Data/TempEco.csv', index=False)\n"
   ]
  },
  {
   "cell_type": "markdown",
   "metadata": {
    "collapsed": true
   },
   "source": [
    "### Download the Texas County Code to FIPS crosswalk from the [Deapertment of State Health Services](https://www.dshs.texas.gov/chs/info/info_txco.shtm)"
   ]
  },
  {
   "cell_type": "code",
   "execution_count": null,
   "metadata": {},
   "outputs": [],
   "source": [
    "xl = pd.read_excel('Data/rawCountyCrosswalk.xlsx', sheetname='Sheet1', header=0, na_values='.', index_col=None)\n",
    "xl2=xl[['FIPS #','County #']]#Keep the columns I need\n",
    "xl2.columns=['FIPS','CtyNum']\n",
    "CountyCrosswalk=xl2[:254] #Drop the rows I don't need\n",
    "#print(CountyCrosswalk)\n",
    "CountyCrosswalk.to_csv('Data/CountyCrosswalk.csv', index=False)"
   ]
  },
  {
   "cell_type": "markdown",
   "metadata": {},
   "source": [
    "### Load and run the R script Dataprep.R\n",
    "\n",
    "Then load output csv files into GDB\n"
   ]
  },
  {
   "cell_type": "code",
   "execution_count": null,
   "metadata": {},
   "outputs": [],
   "source": [
    "arcpy.CreateFileGDB_management('Data',\"CohortCounty.gdb\")\n",
    "#Import CSV files to the GDB\n",
    "arcpy.TableToTable_conversion ('Data/EthCounties.csv', 'Data/CohortCounty.gdb', 'Eth')\n",
    "arcpy.TableToTable_conversion (\"Data/EcoCounties.csv\", 'Data/CohortCounty.gdb', 'Eco')\n",
    "arcpy.TableToTable_conversion (\"Data/GenCounties.csv\", 'Data/CohortCounty.gdb', 'Gen')\n",
    "\n",
    "os.makedirs('Data/FinalShapefiles') #will be used later"
   ]
  },
  {
   "cell_type": "code",
   "execution_count": null,
   "metadata": {
    "collapsed": true
   },
   "outputs": [],
   "source": [
    "#get Census Counties file from https://www.census.gov/geo/maps-data/data/cbf/cbf_counties.html\n",
    "#and unzip\n",
    "URL=requests.get('http://www2.census.gov/geo/tiger/GENZ2016/shp/cb_2016_us_county_20m.zip')\n",
    "zipped=zipfile.ZipFile(io.BytesIO(URL.content))\n",
    "zipped.extractall('Data/CensusShapefiles')\n"
   ]
  },
  {
   "cell_type": "code",
   "execution_count": null,
   "metadata": {},
   "outputs": [],
   "source": [
    "#List fields in dataset\n",
    "fields = arcpy.ListFields('Data/CensusShapefiles/cb_2016_us_county_20m.shp')\n",
    "\n",
    "for field in fields:\n",
    "    print(\"{0} is a type of {1} with a length of {2}\"\n",
    "          .format(field.name, field.type, field.length))\n"
   ]
  },
  {
   "cell_type": "code",
   "execution_count": null,
   "metadata": {},
   "outputs": [],
   "source": [
    "#Make temporary CensusTract Layer\n",
    "arcpy.MakeFeatureLayer_management(\"Data/CensusShapefiles/cb_2016_us_county_20m.shp\", \"CompleteCounties\")\n",
    "\n",
    "arcpy.SelectLayerByAttribute_management(\"CompleteCounties\",\"NEW_SELECTION\", \"STATEFP = '48'\")\n",
    "\n",
    "#Delete unnecessary fields\n",
    "arcpy.DeleteField_management(\"CompleteCounties\", \n",
    "                             [\"STATEFP\", \"COUNTYNS\", \"AFFGEOID\", 'GEOID', 'NAME', 'LSAD', 'ALAND', 'AWATER'])\n",
    "\n",
    "arcpy.FeatureClassToGeodatabase_conversion('CompleteCounties', 'Data/CohortCounty.gdb')\n"
   ]
  },
  {
   "cell_type": "markdown",
   "metadata": {},
   "source": [
    "### The dataset has the counties of El Paso and Hudspeth combined with a county the FIPS number of 999. \n",
    "\n",
    "I changed the \"COUNTYFP\" filed for El Paso (141) and Hudspeth(229) to 999 and then dissolved the County Polygons on \"COUNTYFP\". This was easiest to do manually in ArcGIS Pro.\n",
    "\n",
    "Saved in 'Data/DissolvedCounties.shp'"
   ]
  },
  {
   "cell_type": "code",
   "execution_count": null,
   "metadata": {},
   "outputs": [],
   "source": []
  },
  {
   "cell_type": "code",
   "execution_count": null,
   "metadata": {},
   "outputs": [],
   "source": [
    "def MakeShapefiles(dim):\n",
    "    table = \"'Data/CohortCounty.gdb/\" + dim + \"'\"\n",
    "    #table = \"'Data/\" + dim + \"Counties.csv'\"\n",
    "    FinalShp = \"'Data/FinalShapefiles/\" + dim + \"Counties.shp'\"\n",
    "    outlayer = \"'\" + dim + \"layer'\"\n",
    " \n",
    "    \n",
    "    arcpy.MakeFeatureLayer_management ('Data/DissolvedCounties/DissolvedCounties.shp', outlayer) \n",
    "    arcpy.AddJoin_management(outlayer, 'COUNTYFP', table, 'FIPS', 'KEEP_COMMON')\n",
    "    arcpy.CopyFeatures_management(outlayer, FinalShp)\n",
    "\n",
    "    \n",
    "dims=[\"Gen\", \"Eth\", \"Eco\"]\n",
    "for dim in dims:\n",
    "    MakeShapefiles(dim)"
   ]
  },
  {
   "cell_type": "code",
   "execution_count": null,
   "metadata": {
    "collapsed": true
   },
   "outputs": [],
   "source": []
  },
  {
   "cell_type": "code",
   "execution_count": null,
   "metadata": {},
   "outputs": [],
   "source": [
    "\n",
    "# Now, left join the tables to the shapefiles on CtyNum == CNTY_NM\n",
    "MakeFeatureLayer_management (in_features, out_layer, \n",
    "arcpy.AddJoin_management('Data/CohortCounty.gdb/CompleteCounties', 'CNTY_NM','Data/CohortCounty.gdb/Eth', 'CTYNum', 'KEEP_COMMON')\n",
    "#arcpy.FeatureClassToFeatureClass_conversion(EthLayer, 'Data/FinalShapefiles', 'Eth.shp')\n",
    "arcpy.CopyFeatures_management('CompleteCounties', 'Data/FinalShapefiles/EthCounties.shp')\n",
    "\n",
    "# arcpy.JoinField_management('Data/CohortCounty.gdb/CompleteCounties', 'CNTY_NM','Data/CohortCounty.gdb/Eco', 'CTYNum', 'KEEP_COMMON')\n",
    "# arcpy.CopyFeatures_management('CompleteCounties', 'Data/FinalShapefiles/EcoCounties.shp')\n",
    "\n",
    "# arcpy.JoinField_management('Data/CohortCounty.gdb/CompleteCounties', 'CNTY_NM','Data/CohortCounty.gdb/Gen', 'CTYNum', 'KEEP_COMMON')\n",
    "# arcpy.CopyFeatures_management('CompleteCounties', 'Data/FinalShapefiles/GenCounties.shp')"
   ]
  },
  {
   "cell_type": "code",
   "execution_count": null,
   "metadata": {
    "collapsed": true
   },
   "outputs": [],
   "source": []
  }
 ],
 "metadata": {
  "kernelspec": {
   "display_name": "Python 3",
   "language": "python",
   "name": "python3"
  },
  "language_info": {
   "codemirror_mode": {
    "name": "ipython",
    "version": 3
   },
   "file_extension": ".py",
   "mimetype": "text/x-python",
   "name": "python",
   "nbconvert_exporter": "python",
   "pygments_lexer": "ipython3",
   "version": "3.5.4"
  }
 },
 "nbformat": 4,
 "nbformat_minor": 2
}
